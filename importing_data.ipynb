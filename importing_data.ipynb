{
 "cells": [
  {
   "cell_type": "code",
   "execution_count": 10,
   "outputs": [],
   "source": [
    "import os\n",
    "import shutil\n",
    "\n",
    "def read_txt_file(file_path):\n",
    "    with open(file_path, 'r') as f:\n",
    "        lines = f.readlines()\n",
    "    image_paths = [line.split()[0] for line in lines]\n",
    "    return image_paths\n",
    "\n",
    "def create_directory(path):\n",
    "    if not os.path.exists(path):\n",
    "        os.makedirs(path)\n",
    "\n",
    "def copy_images(images, src_root, dst_root):\n",
    "    for img_path in images:\n",
    "        src = os.path.join(src_root, img_path)\n",
    "        # Remove the 'clipart' directory from img_path\n",
    "        img_path = img_path.split('/', 1)[-1]\n",
    "        dst = os.path.join(dst_root, img_path)\n",
    "\n",
    "        create_directory(os.path.dirname(dst))\n",
    "        shutil.copy(src, dst)\n",
    "\n",
    "src_root = '../data'\n",
    "train_dst_root = '../clipart/train'\n",
    "val_dst_root = '../clipart/val'\n",
    "\n",
    "train_images = read_txt_file('../data/clipart_train.txt')\n",
    "val_images = read_txt_file('../data/clipart_test.txt')\n",
    "\n",
    "copy_images(train_images, src_root, train_dst_root)\n",
    "copy_images(val_images, src_root, val_dst_root)\n"
   ],
   "metadata": {
    "collapsed": false
   }
  }
 ],
 "metadata": {
  "kernelspec": {
   "display_name": "Python 3",
   "language": "python",
   "name": "python3"
  },
  "language_info": {
   "codemirror_mode": {
    "name": "ipython",
    "version": 2
   },
   "file_extension": ".py",
   "mimetype": "text/x-python",
   "name": "python",
   "nbconvert_exporter": "python",
   "pygments_lexer": "ipython2",
   "version": "2.7.6"
  }
 },
 "nbformat": 4,
 "nbformat_minor": 0
}
